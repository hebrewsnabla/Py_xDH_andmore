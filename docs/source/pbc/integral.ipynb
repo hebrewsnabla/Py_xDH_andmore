{
 "cells": [
  {
   "cell_type": "markdown",
   "metadata": {},
   "source": [
    "# 电子积分准备"
   ]
  },
  {
   "cell_type": "markdown",
   "metadata": {},
   "source": [
    "同[非周期性教程](../qcbasic/basis_integral.ipynb)一样，我们先来准备一个尽可能小的体系。此处选择的是金刚石的最小重复单元，含两个碳原子。由于使用了GTH赝势，只有8个电子。\n",
    "\n",
    "不过周期性的核排斥能量的计算没有非周期性那么简单，因此我们先来看电子积分。"
   ]
  },
  {
   "cell_type": "code",
   "execution_count": 1,
   "metadata": {},
   "outputs": [
    {
     "data": {
      "text/plain": [
       "<pyscf.pbc.gto.cell.Cell at 0x7f045f0e0670>"
      ]
     },
     "execution_count": 1,
     "metadata": {},
     "output_type": "execute_result"
    }
   ],
   "source": [
    "from pyscf.pbc import gto\n",
    "\n",
    "cell = gto.Cell()\n",
    "cell.atom='''\n",
    "C 0.000000000000   0.000000000000   0.000000000000\n",
    "C 1.685068664391   1.685068664391   1.685068664391\n",
    "'''\n",
    "cell.a = '''\n",
    "0.000000000, 3.370137329, 3.370137329\n",
    "3.370137329, 0.000000000, 3.370137329\n",
    "3.370137329, 3.370137329, 0.000000000'''\n",
    "cell.unit = 'B'\n",
    "cell.basis = 'gth-szv'\n",
    "cell.pseudo = 'gth-pade'\n",
    "cell.build()"
   ]
  },
  {
   "cell_type": "code",
   "execution_count": 2,
   "metadata": {},
   "outputs": [
    {
     "data": {
      "text/plain": [
       "(4, 4)"
      ]
     },
     "execution_count": 2,
     "metadata": {},
     "output_type": "execute_result"
    }
   ],
   "source": [
    "cell.nelec"
   ]
  },
  {
   "cell_type": "markdown",
   "metadata": {},
   "source": [
    "GTH-SZV 是一个足够小的基组，对于目前体系只有8个基函数。"
   ]
  },
  {
   "cell_type": "code",
   "execution_count": 3,
   "metadata": {
    "scrolled": true
   },
   "outputs": [
    {
     "data": {
      "text/plain": [
       "{'C': [[0,\n",
       "   [4.3362376436, 0.1490797872],\n",
       "   [1.2881838513, -0.0292640031],\n",
       "   [0.4037767149, -0.688204051],\n",
       "   [0.1187877657, -0.3964426906]],\n",
       "  [1,\n",
       "   [4.3362376436, -0.0878123619],\n",
       "   [1.2881838513, -0.27755603],\n",
       "   [0.4037767149, -0.4712295093],\n",
       "   [0.1187877657, -0.4058039291]]]}"
      ]
     },
     "execution_count": 3,
     "metadata": {},
     "output_type": "execute_result"
    }
   ],
   "source": [
    "cell._basis"
   ]
  },
  {
   "cell_type": "code",
   "execution_count": 4,
   "metadata": {},
   "outputs": [
    {
     "data": {
      "text/plain": [
       "8"
      ]
     },
     "execution_count": 4,
     "metadata": {},
     "output_type": "execute_result"
    }
   ],
   "source": [
    "cell.nao"
   ]
  },
  {
   "cell_type": "markdown",
   "metadata": {},
   "source": [
    "## 重叠积分"
   ]
  },
  {
   "cell_type": "markdown",
   "metadata": {},
   "source": [
    "首先，即使不了解重叠积分的本质，我们也可以找到这样的API来计算周期性体系的重叠积分"
   ]
  },
  {
   "cell_type": "code",
   "execution_count": 5,
   "metadata": {},
   "outputs": [],
   "source": [
    "S_ref = cell.pbc_intor('int1e_ovlp')"
   ]
  },
  {
   "cell_type": "code",
   "execution_count": 6,
   "metadata": {},
   "outputs": [
    {
     "data": {
      "text/plain": [
       "(8, 8)"
      ]
     },
     "execution_count": 6,
     "metadata": {},
     "output_type": "execute_result"
    }
   ],
   "source": [
    "S_ref.shape"
   ]
  },
  {
   "cell_type": "markdown",
   "metadata": {},
   "source": [
    "然而，这样的重叠积分与不存在周期性边界条件时的重叠积分是不一样的（习题：尝试验证这一点）。这是因为周期性情形下的AO实际上是crystalline cGTO"
   ]
  },
  {
   "cell_type": "markdown",
   "metadata": {},
   "source": [
    "相关定义\n",
    "\n",
    "* `ao` crystalline AO $\\phi$\n",
    "* （非周期性的）AO $\\mu$\n",
    "* 晶格偏移矢量 $\\boldsymbol L$\n",
    "\n",
    "值得注意的是，在非周期性笔记中，我们只有一种AO，用 $\\phi$ 表示。而现在 $\\phi$ 用于表示crystalline AO，原来的AO改用$\\mu$表示。"
   ]
  },
  {
   "cell_type": "markdown",
   "metadata": {},
   "source": [
    "计算crystaline AO的格点表示，只需把AO及邻近镜像的格点表示都加起来\n",
    "$$ \\phi(\\boldsymbol{r}) = \\dfrac{1}{\\sqrt{N}} \\sum_L \\mu(\\boldsymbol{r} - \\boldsymbol{L}) $$"
   ]
  },
  {
   "cell_type": "markdown",
   "metadata": {},
   "source": [
    "当然，在此之前，我们需要先生成一套格点"
   ]
  },
  {
   "cell_type": "code",
   "execution_count": 7,
   "metadata": {},
   "outputs": [],
   "source": [
    "mesh = [10,10,10]\n",
    "grids = cell.get_uniform_grids(mesh)"
   ]
  },
  {
   "cell_type": "code",
   "execution_count": 8,
   "metadata": {},
   "outputs": [
    {
     "data": {
      "text/plain": [
       "(1000, 3)"
      ]
     },
     "execution_count": 8,
     "metadata": {},
     "output_type": "execute_result"
    }
   ],
   "source": [
    "grids.shape"
   ]
  },
  {
   "cell_type": "markdown",
   "metadata": {},
   "source": [
    "下面就可以生成邻近镜像的偏移矢量，然后计算crystaline AO的格点表示。（习题：`n_images = [2,2,2]`实际上包含多少个镜像？）"
   ]
  },
  {
   "cell_type": "code",
   "execution_count": 9,
   "metadata": {},
   "outputs": [],
   "source": [
    "import numpy as np\n",
    "def get_ao_values(cell, n_images, grids):\n",
    "    cell = cell.copy()\n",
    "    Ls = get_lattice_Ls(cell, n_images)\n",
    "    atom_ref = cell.atom_coords()\n",
    "\n",
    "    ao = 0\n",
    "    natm = cell.natm\n",
    "    for L in Ls:\n",
    "        cell.atom = [[cell._atom[i][0], atom_ref[i] + L] for i in range(natm)]\n",
    "        cell.build()\n",
    "        ao += cell.eval_gto('GTOval', grids)\n",
    "    return ao\n",
    "\n",
    "def get_lattice_Ls(cell, n_images):\n",
    "    n_images_x = n_images[0]\n",
    "    n_images_y = n_images[1]\n",
    "    n_images_z = n_images[2]\n",
    "    Ls = []\n",
    "    for ix in range(-n_images_x, n_images_x+1):\n",
    "        for iy in range(-n_images_y, n_images_y+1):\n",
    "            for iz in range(-n_images_z, n_images_z+1):\n",
    "                L = np.einsum('x,xy->y', np.array((ix, iy, iz)), cell.lattice_vectors())\n",
    "                Ls.append(L)\n",
    "    return Ls\n",
    "\n",
    "n_images = [2,2,2]\n",
    "ao = get_ao_values(cell, n_images, grids)\n"
   ]
  },
  {
   "cell_type": "markdown",
   "metadata": {},
   "source": [
    "可以与PySCF的标准实现比较一下。`n_images`取得越大，就越接近精确值。（TODO：如何估计合适的`n_images`？）"
   ]
  },
  {
   "cell_type": "code",
   "execution_count": 10,
   "metadata": {},
   "outputs": [
    {
     "name": "stdout",
     "output_type": "stream",
     "text": [
      "0.00018057172454068182\n"
     ]
    }
   ],
   "source": [
    "ao_ref = cell.pbc_eval_gto('GTOval', grids)\n",
    "print(abs(ao-ao_ref).max())"
   ]
  },
  {
   "cell_type": "markdown",
   "metadata": {},
   "source": [
    "下面计算重叠积分。通过上面对crystalline AO的了解，至少有两种办法，一种是直接在格点上求和"
   ]
  },
  {
   "cell_type": "code",
   "execution_count": 11,
   "metadata": {},
   "outputs": [
    {
     "name": "stdout",
     "output_type": "stream",
     "text": [
      "0.0004307987275599112\n"
     ]
    }
   ],
   "source": [
    "def get_ovlp1(cell, n_images, grids):\n",
    "    weight = cell.vol / np.prod(mesh)\n",
    "    ao = get_ao_values(cell, n_images, grids)\n",
    "    s = weight * np.einsum('xi,xj->ij', ao.conj(), ao)\n",
    "    return s\n",
    "\n",
    "S1 = get_ovlp1(cell, n_images, grids)\n",
    "print(abs(S1 - S_ref).max())"
   ]
  },
  {
   "cell_type": "markdown",
   "metadata": {},
   "source": [
    "另一种是对晶格偏移展开，\n",
    "\n",
    "$$\n",
    "\\langle \\phi_\\mu | \\phi_\\nu \\rangle = \\dfrac{1}{N} \\sum_{\\boldsymbol{L L}'} \\int \\mathrm{d} r \\mu(\\boldsymbol{r} - \\boldsymbol{L})^* \\nu(\\boldsymbol{r} - \\boldsymbol{L}') \\\\\n",
    "= \\dfrac{1}{N} \\sum_{\\boldsymbol{L}} \\int \\mathrm{d} r \\mu(\\boldsymbol{r})^* \\nu(\\boldsymbol{r} + \\boldsymbol{L}) \n",
    "$$"
   ]
  },
  {
   "cell_type": "code",
   "execution_count": 12,
   "metadata": {},
   "outputs": [
    {
     "name": "stdout",
     "output_type": "stream",
     "text": [
      "0.007028588146315767\n"
     ]
    }
   ],
   "source": [
    "from pyscf import gto as mole_gto\n",
    "def get_ovlp2(cell, n_images):\n",
    "    cellL = cell.copy()\n",
    "    Ls = get_lattice_Ls(cell, n_images)\n",
    "    atom_ref = cell.atom_coords()\n",
    "\n",
    "    s = 0\n",
    "    natm = cell.natm\n",
    "    for L in Ls:\n",
    "        cellL.atom = [[cell._atom[i][0], atom_ref[i] + L] for i in range(natm)]\n",
    "        cellL.build()\n",
    "        s += mole_gto.intor_cross('int1e_ovlp', cell, cellL)\n",
    "    return s\n",
    "\n",
    "S2 = get_ovlp2(cell, n_images)\n",
    "print(abs(S2 - S_ref).max())"
   ]
  },
  {
   "cell_type": "markdown",
   "metadata": {},
   "source": [
    "由于之前所取的`n_images`比较小，这里的误差稍大了一些。我们增大`n_images`试试看。"
   ]
  },
  {
   "cell_type": "code",
   "execution_count": 13,
   "metadata": {},
   "outputs": [
    {
     "name": "stdout",
     "output_type": "stream",
     "text": [
      "3.5862632974045794e-05\n"
     ]
    }
   ],
   "source": [
    "S2 = get_ovlp2(cell, [3,3,3])\n",
    "print(abs(S2 - S_ref).max())"
   ]
  },
  {
   "cell_type": "markdown",
   "metadata": {},
   "source": [
    "## 动能积分\n",
    "\n",
    "我们尝试用类似的方法计算动能积分。sunqm 的原教程只演示了格点方式，我们来尝试第二种方法(lattice sum)。"
   ]
  },
  {
   "cell_type": "code",
   "execution_count": 15,
   "metadata": {},
   "outputs": [
    {
     "name": "stdout",
     "output_type": "stream",
     "text": [
      "0.003957462046596236\n",
      "4.369938133889917e-05\n"
     ]
    }
   ],
   "source": [
    "kin_ref = cell.pbc_intor('int1e_kin')\n",
    "\n",
    "def get_kin2(cell, n_images):\n",
    "    cellL = cell.copy()\n",
    "    Ls = get_lattice_Ls(cell, n_images)\n",
    "    atom_ref = cell.atom_coords()\n",
    "\n",
    "    s = 0\n",
    "    natm = cell.natm\n",
    "    for L in Ls:\n",
    "        cellL.atom = [[cell._atom[i][0], atom_ref[i] + L] for i in range(natm)]\n",
    "        cellL.build()\n",
    "        s += mole_gto.intor_cross('int1e_kin', cell, cellL)\n",
    "    return s\n",
    "\n",
    "kin2 = get_kin2(cell, n_images)\n",
    "print(abs(kin2 - kin_ref).max())\n",
    "\n",
    "kin2 = get_kin2(cell, [3,3,3])\n",
    "print(abs(kin2 - kin_ref).max())"
   ]
  },
  {
   "cell_type": "markdown",
   "metadata": {},
   "source": [
    "看起来也是可行的。\n",
    "\n",
    "注：我们所实现的以上两种积分的方法二，实际上和作为参照标准的`cell.pbc_intor()`是同一种方法，只是后者实现更复杂，效率更高。这也是PySCF目前默认的计算这两种积分的方式，所以在GTO基下应该是效率最高的方式（不过我们还没有证明这一点）。"
   ]
  },
  {
   "cell_type": "markdown",
   "metadata": {},
   "source": [
    "## 电子-核吸引能积分\n",
    "\n",
    "此种积分看起来也可以用上面所说的两种办法来求。但是，不同于上面的两种两中心的积分，我们还得考虑原子核位置的周期性。这样 lattice sum 时就多了一重求和（这是唯一的问题吗？），看起来不太方便。我们可以考虑用傅里叶变换来简化计算。且看下一节。"
   ]
  }
 ],
 "metadata": {
  "interpreter": {
   "hash": "e7370f93d1d0cde622a1f8e1c04877d8463912d04d973331ad4851f04de6915a"
  },
  "kernelspec": {
   "display_name": "Python 3 (ipykernel)",
   "language": "python",
   "name": "python3"
  },
  "language_info": {
   "codemirror_mode": {
    "name": "ipython",
    "version": 3
   },
   "file_extension": ".py",
   "mimetype": "text/x-python",
   "name": "python",
   "nbconvert_exporter": "python",
   "pygments_lexer": "ipython3",
   "version": "3.10.10"
  }
 },
 "nbformat": 4,
 "nbformat_minor": 2
}
