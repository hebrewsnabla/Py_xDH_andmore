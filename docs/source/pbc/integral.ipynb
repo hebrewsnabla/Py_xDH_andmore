{
 "cells": [
  {
   "attachments": {},
   "cell_type": "markdown",
   "metadata": {},
   "source": [
    "# 电子积分准备"
   ]
  },
  {
   "cell_type": "markdown",
   "metadata": {},
   "source": [
    "同[非周期性教程](../qcbasic/basis_integral.ipynb)一样，我们先来准备一个尽可能小的体系。此处选择的是金刚石的最小重复单元，含两个碳原子。由于使用了GTH赝势，只有8个电子。\n",
    "\n",
    "不过周期性的核排斥能量的计算没有非周期性那么简单，因此我们先来看电子积分。"
   ]
  },
  {
   "cell_type": "code",
   "execution_count": 1,
   "metadata": {},
   "outputs": [
    {
     "data": {
      "text/plain": [
       "<pyscf.pbc.gto.cell.Cell at 0x7f1f384621a0>"
      ]
     },
     "execution_count": 1,
     "metadata": {},
     "output_type": "execute_result"
    }
   ],
   "source": [
    "from pyscf.pbc import gto\n",
    "\n",
    "cell = gto.Cell()\n",
    "cell.atom='''\n",
    "C 0.000000000000   0.000000000000   0.000000000000\n",
    "C 1.685068664391   1.685068664391   1.685068664391\n",
    "'''\n",
    "cell.a = '''\n",
    "0.000000000, 3.370137329, 3.370137329\n",
    "3.370137329, 0.000000000, 3.370137329\n",
    "3.370137329, 3.370137329, 0.000000000'''\n",
    "cell.unit = 'B'\n",
    "cell.basis = 'gth-szv'\n",
    "cell.pseudo = 'gth-pade'\n",
    "cell.build()"
   ]
  },
  {
   "cell_type": "code",
   "execution_count": 6,
   "metadata": {},
   "outputs": [
    {
     "data": {
      "text/plain": [
       "(4, 4)"
      ]
     },
     "execution_count": 6,
     "metadata": {},
     "output_type": "execute_result"
    }
   ],
   "source": [
    "cell.nelec"
   ]
  },
  {
   "cell_type": "markdown",
   "metadata": {},
   "source": [
    "GTH-SZV 是一个足够小的基组，对于目前体系只有8个基函数。"
   ]
  },
  {
   "cell_type": "code",
   "execution_count": 7,
   "metadata": {},
   "outputs": [
    {
     "data": {
      "text/plain": [
       "{'C': [[0,\n",
       "   [4.3362376436, 0.1490797872],\n",
       "   [1.2881838513, -0.0292640031],\n",
       "   [0.4037767149, -0.688204051],\n",
       "   [0.1187877657, -0.3964426906]],\n",
       "  [1,\n",
       "   [4.3362376436, -0.0878123619],\n",
       "   [1.2881838513, -0.27755603],\n",
       "   [0.4037767149, -0.4712295093],\n",
       "   [0.1187877657, -0.4058039291]]]}"
      ]
     },
     "execution_count": 7,
     "metadata": {},
     "output_type": "execute_result"
    }
   ],
   "source": [
    "cell._basis"
   ]
  },
  {
   "cell_type": "code",
   "execution_count": 8,
   "metadata": {},
   "outputs": [
    {
     "data": {
      "text/plain": [
       "8"
      ]
     },
     "execution_count": 8,
     "metadata": {},
     "output_type": "execute_result"
    }
   ],
   "source": [
    "cell.nao"
   ]
  },
  {
   "cell_type": "markdown",
   "metadata": {},
   "source": [
    "## 重叠积分"
   ]
  },
  {
   "cell_type": "code",
   "execution_count": null,
   "metadata": {},
   "outputs": [],
   "source": []
  }
 ],
 "metadata": {
  "interpreter": {
   "hash": "e7370f93d1d0cde622a1f8e1c04877d8463912d04d973331ad4851f04de6915a"
  },
  "kernelspec": {
   "display_name": "Python 3.10.9 64-bit",
   "language": "python",
   "name": "python3"
  },
  "language_info": {
   "codemirror_mode": {
    "name": "ipython",
    "version": 3
   },
   "file_extension": ".py",
   "mimetype": "text/x-python",
   "name": "python",
   "nbconvert_exporter": "python",
   "pygments_lexer": "ipython3",
   "version": "3.10.9"
  },
  "orig_nbformat": 4
 },
 "nbformat": 4,
 "nbformat_minor": 2
}
