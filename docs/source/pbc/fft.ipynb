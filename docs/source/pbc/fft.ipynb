{
 "cells": [
  {
   "cell_type": "markdown",
   "metadata": {},
   "source": [
    "# 电子积分准备：傅里叶变换"
   ]
  },
  {
   "cell_type": "markdown",
   "metadata": {},
   "source": [
    "重新初始化一下我们的体系。"
   ]
  },
  {
   "cell_type": "code",
   "execution_count": 1,
   "metadata": {
    "scrolled": true
   },
   "outputs": [
    {
     "data": {
      "text/plain": [
       "<pyscf.pbc.gto.cell.Cell at 0x7ff7c5721990>"
      ]
     },
     "execution_count": 1,
     "metadata": {},
     "output_type": "execute_result"
    }
   ],
   "source": [
    "from pyscf.pbc import gto\n",
    "\n",
    "cell = gto.Cell()\n",
    "cell.atom='''\n",
    "C 0.000000000000   0.000000000000   0.000000000000\n",
    "C 1.685068664391   1.685068664391   1.685068664391\n",
    "'''\n",
    "cell.a = '''\n",
    "0.000000000, 3.370137329, 3.370137329\n",
    "3.370137329, 0.000000000, 3.370137329\n",
    "3.370137329, 3.370137329, 0.000000000'''\n",
    "cell.unit = 'B'\n",
    "cell.basis = 'gth-szv'\n",
    "cell.pseudo = 'gth-pade'\n",
    "cell.build()"
   ]
  },
  {
   "cell_type": "code",
   "execution_count": 2,
   "metadata": {},
   "outputs": [],
   "source": [
    "S_ref = cell.pbc_intor('int1e_ovlp')"
   ]
  },
  {
   "cell_type": "markdown",
   "metadata": {},
   "source": [
    "## 重叠积分：傅里叶变换"
   ]
  },
  {
   "cell_type": "markdown",
   "metadata": {},
   "source": [
    "$$ \\phi(\\boldsymbol{G}) = \\int e^{-i \\boldsymbol{G}\\cdot\\boldsymbol{r}} \\phi(\\boldsymbol{r}) \\mathrm{d} \\boldsymbol{r} $$"
   ]
  },
  {
   "cell_type": "code",
   "execution_count": 3,
   "metadata": {},
   "outputs": [],
   "source": [
    "mesh = [10,10,10]\n",
    "grids = cell.get_uniform_grids(mesh)"
   ]
  },
  {
   "cell_type": "code",
   "execution_count": 8,
   "metadata": {},
   "outputs": [
    {
     "name": "stdout",
     "output_type": "stream",
     "text": [
      "(1000, 3)\n"
     ]
    }
   ],
   "source": [
    "Gv = cell.get_Gv(mesh=mesh)\n",
    "print(Gv.shape)"
   ]
  },
  {
   "cell_type": "markdown",
   "metadata": {},
   "source": [
    "## 电子-核吸引能积分\n",
    "\n"
   ]
  }
 ],
 "metadata": {
  "interpreter": {
   "hash": "e7370f93d1d0cde622a1f8e1c04877d8463912d04d973331ad4851f04de6915a"
  },
  "kernelspec": {
   "display_name": "Python 3 (ipykernel)",
   "language": "python",
   "name": "python3"
  },
  "language_info": {
   "codemirror_mode": {
    "name": "ipython",
    "version": 3
   },
   "file_extension": ".py",
   "mimetype": "text/x-python",
   "name": "python",
   "nbconvert_exporter": "python",
   "pygments_lexer": "ipython3",
   "version": "3.10.9"
  }
 },
 "nbformat": 4,
 "nbformat_minor": 2
}
