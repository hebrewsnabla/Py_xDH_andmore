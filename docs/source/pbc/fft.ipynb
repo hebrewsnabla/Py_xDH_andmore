{
 "cells": [
  {
   "cell_type": "markdown",
   "metadata": {},
   "source": [
    "# 电子积分准备：傅里叶变换"
   ]
  },
  {
   "cell_type": "markdown",
   "metadata": {},
   "source": [
    "重新初始化一下我们的体系。"
   ]
  },
  {
   "cell_type": "code",
   "execution_count": 1,
   "metadata": {
    "scrolled": true
   },
   "outputs": [
    {
     "data": {
      "text/plain": [
       "<pyscf.pbc.gto.cell.Cell at 0x7f4f4755a350>"
      ]
     },
     "execution_count": 1,
     "metadata": {},
     "output_type": "execute_result"
    }
   ],
   "source": [
    "from pyscf.pbc import gto\n",
    "\n",
    "cell = gto.Cell()\n",
    "cell.atom='''\n",
    "C 0.000000000000   0.000000000000   0.000000000000\n",
    "C 1.685068664391   1.685068664391   1.685068664391\n",
    "'''\n",
    "cell.a = '''\n",
    "0.000000000, 3.370137329, 3.370137329\n",
    "3.370137329, 0.000000000, 3.370137329\n",
    "3.370137329, 3.370137329, 0.000000000'''\n",
    "cell.unit = 'B'\n",
    "cell.basis = 'gth-szv'\n",
    "cell.pseudo = 'gth-pade'\n",
    "cell.build()"
   ]
  },
  {
   "cell_type": "code",
   "execution_count": 2,
   "metadata": {},
   "outputs": [],
   "source": [
    "S_ref = cell.pbc_intor('int1e_ovlp')"
   ]
  },
  {
   "cell_type": "markdown",
   "metadata": {},
   "source": [
    "## 重叠积分：傅里叶变换"
   ]
  },
  {
   "cell_type": "markdown",
   "metadata": {},
   "source": [
    "$$ \\phi(\\boldsymbol{G}) = \\int e^{-i \\boldsymbol{G}\\cdot\\boldsymbol{r}} \\phi(\\boldsymbol{r}) \\mathrm{d} \\boldsymbol{r} $$"
   ]
  },
  {
   "cell_type": "code",
   "execution_count": 3,
   "metadata": {},
   "outputs": [],
   "source": [
    "mesh = [10,10,10]\n",
    "grids = cell.get_uniform_grids(mesh)"
   ]
  },
  {
   "cell_type": "code",
   "execution_count": 4,
   "metadata": {},
   "outputs": [
    {
     "name": "stdout",
     "output_type": "stream",
     "text": [
      "(1000, 3)\n"
     ]
    }
   ],
   "source": [
    "Gv = cell.get_Gv(mesh=mesh)\n",
    "print(Gv.shape)"
   ]
  },
  {
   "cell_type": "markdown",
   "metadata": {},
   "source": [
    "## 电子-核吸引能积分\n",
    "\n"
   ]
  },
  {
   "cell_type": "code",
   "execution_count": 16,
   "metadata": {},
   "outputs": [
    {
     "name": "stdout",
     "output_type": "stream",
     "text": [
      "[8 8 8]\n",
      "0.1435936658459252\n"
     ]
    },
    {
     "name": "stderr",
     "output_type": "stream",
     "text": [
      "/tmp/ipykernel_2243445/3290720319.py:18: RuntimeWarning: divide by zero encountered in divide\n",
      "  coulG = 4 * np.pi / G2\n"
     ]
    }
   ],
   "source": [
    "from pyscf.pbc.tools import fft, ifft, cutoff_to_mesh\n",
    "import numpy as np\n",
    "\n",
    "def get_nuc(cell, mesh, grids):\n",
    "    R = cell.atom_coords()\n",
    "    Gv = cell.get_Gv(mesh=mesh)\n",
    "    SI = np.exp(-1j*np.einsum('zs,xs->zx', R, Gv))\n",
    "    rho_nuc_G = -np.einsum('z,zx->x', cell.atom_charges(), SI)\n",
    "\n",
    "    aoR = cell.pbc_eval_gto('GTOval', grids)\n",
    "    nao = aoR.shape[1]\n",
    "    pair_ao_real_space = np.einsum('xi,xj->xij', aoR.conj(), aoR)\n",
    "    pair_ao_G_space = ifft(pair_ao_real_space.reshape(-1,nao**2).T,\n",
    "                           mesh).T.reshape(-1,nao,nao) * cell.vol\n",
    "\n",
    "    w = 1./cell.vol\n",
    "    G2 = np.einsum('xs,xs->x', Gv, Gv)\n",
    "    coulG = 4 * np.pi / G2\n",
    "    coulG[G2 == 0] = 0\n",
    "\n",
    "    v = w * np.einsum('x,x,xij->ij', rho_nuc_G, coulG, pair_ao_G_space)\n",
    "    return v\n",
    "\n",
    "enuc = get_nuc(cell, mesh, grids)\n",
    "\n",
    "ke_cutoff = 20.0\n",
    "_mesh = cutoff_to_mesh(cell.lattice_vectors(), ke_cutoff)\n",
    "print(_mesh)\n",
    "_grids = cell.get_uniform_grids(_mesh)\n",
    "enuc_cut = get_nuc(cell, _mesh, _grids)\n",
    "print(np.linalg.norm(enuc_cut - enuc))"
   ]
  },
  {
   "cell_type": "code",
   "execution_count": null,
   "metadata": {},
   "outputs": [],
   "source": []
  }
 ],
 "metadata": {
  "interpreter": {
   "hash": "e7370f93d1d0cde622a1f8e1c04877d8463912d04d973331ad4851f04de6915a"
  },
  "kernelspec": {
   "display_name": "Python 3 (ipykernel)",
   "language": "python",
   "name": "python3"
  },
  "language_info": {
   "codemirror_mode": {
    "name": "ipython",
    "version": 3
   },
   "file_extension": ".py",
   "mimetype": "text/x-python",
   "name": "python",
   "nbconvert_exporter": "python",
   "pygments_lexer": "ipython3",
   "version": "3.10.9"
  }
 },
 "nbformat": 4,
 "nbformat_minor": 2
}
