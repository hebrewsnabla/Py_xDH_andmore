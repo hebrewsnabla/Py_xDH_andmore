{
 "cells": [
  {
   "cell_type": "markdown",
   "metadata": {},
   "source": [
    "# 电子积分准备：傅里叶变换"
   ]
  },
  {
   "cell_type": "markdown",
   "metadata": {},
   "source": [
    "重新初始化一下我们的体系。"
   ]
  },
  {
   "cell_type": "code",
   "execution_count": 2,
   "metadata": {
    "scrolled": true
   },
   "outputs": [
    {
     "data": {
      "text/plain": [
       "<pyscf.pbc.gto.cell.Cell at 0x1532135ea9b0>"
      ]
     },
     "execution_count": 2,
     "metadata": {},
     "output_type": "execute_result"
    }
   ],
   "source": [
    "from pyscf.pbc import gto\n",
    "\n",
    "cell = gto.Cell()\n",
    "cell.atom='''\n",
    "C 0.000000000000   0.000000000000   0.000000000000\n",
    "C 1.685068664391   1.685068664391   1.685068664391\n",
    "'''\n",
    "cell.a = '''\n",
    "0.000000000, 3.370137329, 3.370137329\n",
    "3.370137329, 0.000000000, 3.370137329\n",
    "3.370137329, 3.370137329, 0.000000000'''\n",
    "cell.unit = 'B'\n",
    "cell.basis = 'gth-szv'\n",
    "cell.pseudo = 'gth-pade'\n",
    "cell.build()"
   ]
  },
  {
   "cell_type": "code",
   "execution_count": 3,
   "metadata": {},
   "outputs": [],
   "source": [
    "S_ref = cell.pbc_intor('int1e_ovlp')"
   ]
  },
  {
   "cell_type": "markdown",
   "metadata": {},
   "source": [
    "## 重叠积分：傅里叶变换"
   ]
  },
  {
   "cell_type": "markdown",
   "metadata": {},
   "source": [
    "$$ \\phi(\\boldsymbol{G}) = \\int e^{-i \\boldsymbol{G}\\cdot\\boldsymbol{r}} \\phi(\\boldsymbol{r}) \\mathrm{d} \\boldsymbol{r} $$"
   ]
  },
  {
   "cell_type": "code",
   "execution_count": 4,
   "metadata": {},
   "outputs": [],
   "source": [
    "mesh = [10,10,10]\n",
    "grids = cell.get_uniform_grids(mesh)"
   ]
  },
  {
   "cell_type": "code",
   "execution_count": 5,
   "metadata": {},
   "outputs": [
    {
     "name": "stdout",
     "output_type": "stream",
     "text": [
      "(1000, 3)\n"
     ]
    }
   ],
   "source": [
    "Gv = cell.get_Gv(mesh=mesh)\n",
    "print(Gv.shape)"
   ]
  },
  {
   "cell_type": "markdown",
   "metadata": {},
   "source": [
    "## 电子-核吸引能积分\n",
    "\n"
   ]
  },
  {
   "cell_type": "markdown",
   "metadata": {},
   "source": [
    "实际上下式的第二个等号并不严格，只是代表了周期性程序的通常处理方式。FFT $\\{V_\\text{nuc}\\}$ 本来是发散的，利用Ewald求和可以避免计算 $G=0$ 的项 (Martin Appendix F)，并将 $E_{\\text{nuc}}$ 分为三部分，另两部分在其他地方计入。"
   ]
  },
  {
   "cell_type": "markdown",
   "metadata": {},
   "source": [
    "$$ \\langle \\phi_\\mu | V_{\\text{nuc}} | \\phi_\\nu \\rangle = \\dfrac{1}{N} \\sum_{L L'} \\int \\mu^*(\\boldsymbol{r} - \\boldsymbol{L}) \\nu(\\boldsymbol{r} - \\boldsymbol{L}') \\sum_A \\dfrac{Z_A}{| \\boldsymbol{r} - \\boldsymbol{R}_A|} \\mathrm{d} \\boldsymbol{r} \\\\\n",
    "= \\sum_{G \\neq 0} \\omega_G \\rho_{\\mu\\nu}(-\\boldsymbol{G}) V_{\\text{nuc}}(\\boldsymbol{G}) \\; \\text{(Martin 12.4)} $$\n",
    "\n",
    "$$ \\rho_{\\mu\\nu}(\\boldsymbol{G}) = \\sum_{L L'} \\int e^{-i\\boldsymbol{G}\\cdot\\boldsymbol{r}} \\mu^*(\\boldsymbol{r} - \\boldsymbol{L}) \\nu(\\boldsymbol{r} - \\boldsymbol{L}') $$\n",
    "\n",
    "$$ V_{\\text{nuc}}(\\boldsymbol{G}) = \\dfrac{4\\pi}{G^2} \\sum_A Z_A e^{-i\\boldsymbol{G}\\cdot\\boldsymbol{R}_A} $$"
   ]
  },
  {
   "cell_type": "code",
   "execution_count": 6,
   "metadata": {},
   "outputs": [
    {
     "name": "stdout",
     "output_type": "stream",
     "text": [
      "0.006251361039666754\n"
     ]
    },
    {
     "name": "stderr",
     "output_type": "stream",
     "text": [
      "/tmp/ipykernel_1555449/2374552966.py:24: RuntimeWarning: divide by zero encountered in divide\n",
      "  coulG = 4 * np.pi / G2\n"
     ]
    }
   ],
   "source": [
    "from pyscf.pbc.tools import fft, ifft, cutoff_to_mesh\n",
    "from pyscf.pbc import df\n",
    "import numpy as np\n",
    "\n",
    "def get_nuc_ref(cell, mesh):\n",
    "    mydf = df.FFTDF(cell).set(mesh=mesh)\n",
    "    return mydf.get_nuc()\n",
    "\n",
    "def get_nuc(cell, mesh, grids):\n",
    "    R = cell.atom_coords()\n",
    "    Gv = cell.get_Gv(mesh=mesh)\n",
    "    SI = np.exp(-1j*np.einsum('zs,xs->zx', R, Gv))\n",
    "    rho_nuc_G = -np.einsum('z,zx->x', cell.atom_charges(), SI)\n",
    "\n",
    "    aoR = cell.pbc_eval_gto('GTOval', grids)\n",
    "    nao = aoR.shape[1]\n",
    "    pair_ao_real_space = np.einsum('xi,xj->xij', aoR.conj(), aoR)\n",
    "    pair_ao_G_space = ifft(pair_ao_real_space.reshape(-1,nao**2).T,\n",
    "                           mesh).T.reshape(-1,nao,nao) * cell.vol\n",
    "\n",
    "    w = 1./cell.vol\n",
    "    G2 = np.einsum('xs,xs->x', Gv, Gv)\n",
    "    #print(G2)\n",
    "    coulG = 4 * np.pi / G2\n",
    "    coulG[G2 == 0] = 0\n",
    "\n",
    "    v = w * np.einsum('x,x,xij->ij', rho_nuc_G, coulG, pair_ao_G_space)\n",
    "    return v\n",
    "\n",
    "enuc = get_nuc(cell, mesh, grids)\n",
    "enuc_ref = get_nuc_ref(cell, mesh)\n",
    "print( np.linalg.norm(enuc - enuc_ref))\n",
    "#ke_cutoff = 20.0\n",
    "#_mesh = cutoff_to_mesh(cell.lattice_vectors(), ke_cutoff)\n",
    "#print(_mesh)\n",
    "#_grids = cell.get_uniform_grids(_mesh)\n",
    "#enuc_cut = get_nuc(cell, _mesh, _grids)\n",
    "#print(np.linalg.norm(enuc_cut - enuc))"
   ]
  },
  {
   "cell_type": "markdown",
   "metadata": {},
   "source": [
    "## ERI"
   ]
  },
  {
   "cell_type": "code",
   "execution_count": 7,
   "metadata": {},
   "outputs": [
    {
     "name": "stderr",
     "output_type": "stream",
     "text": [
      "/tmp/ipykernel_1555449/1782321194.py:16: RuntimeWarning: divide by zero encountered in divide\n",
      "  coulG = 4 * np.pi / G2\n"
     ]
    },
    {
     "name": "stdout",
     "output_type": "stream",
     "text": [
      "2.197256950963243e-06\n"
     ]
    }
   ],
   "source": [
    "def get_eri(cell, mesh, grids):\n",
    "    Gv = cell.get_Gv(mesh=mesh)\n",
    "\n",
    "    aoR = cell.pbc_eval_gto('GTOval', grids)\n",
    "    nao = aoR.shape[1]\n",
    "\n",
    "    pair_ao_real_space = np.einsum('xi,xj->xij', aoR.conj(), aoR)\n",
    "    weight = cell.vol / np.prod(mesh)\n",
    "    pair_ao_G_space = fft(pair_ao_real_space.reshape(-1,nao**2).T,\n",
    "                          mesh).T.reshape(-1,nao,nao) * weight\n",
    "    pair_ao_G_inv_space = ifft(pair_ao_real_space.reshape(-1,nao**2).T,\n",
    "                               mesh).T.reshape(-1,nao,nao) * cell.vol\n",
    "\n",
    "    w = 1./cell.vol\n",
    "    G2 = np.einsum('xs,xs->x', Gv, Gv)\n",
    "    coulG = 4 * np.pi / G2\n",
    "    coulG[G2 == 0] = 0\n",
    "\n",
    "    eri = w * np.einsum('x, xij, xkl -> ijkl', coulG, pair_ao_G_space, pair_ao_G_inv_space)\n",
    "    return eri\n",
    "\n",
    "def get_eri_ref(cell, mesh):\n",
    "    nao = cell.nao_nr()\n",
    "    mydf = df.FFTDF(cell).set(mesh=mesh)\n",
    "    eri = mydf.get_eri(compact=False).reshape(nao,nao,nao,nao)\n",
    "    return eri\n",
    "\n",
    "eri = get_eri(cell, mesh, grids)\n",
    "print(abs(eri - get_eri_ref(cell, mesh)).max())"
   ]
  }
 ],
 "metadata": {
  "interpreter": {
   "hash": "e7370f93d1d0cde622a1f8e1c04877d8463912d04d973331ad4851f04de6915a"
  },
  "kernelspec": {
   "display_name": "Python 3 (ipykernel)",
   "language": "python",
   "name": "python3"
  },
  "language_info": {
   "codemirror_mode": {
    "name": "ipython",
    "version": 3
   },
   "file_extension": ".py",
   "mimetype": "text/x-python",
   "name": "python",
   "nbconvert_exporter": "python",
   "pygments_lexer": "ipython3",
   "version": "3.10.10"
  }
 },
 "nbformat": 4,
 "nbformat_minor": 2
}
